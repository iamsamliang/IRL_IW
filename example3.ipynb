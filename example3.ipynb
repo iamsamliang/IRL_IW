{
 "cells": [
  {
   "cell_type": "code",
   "execution_count": 1,
   "metadata": {},
   "outputs": [],
   "source": [
    "from msdm.domains import GridWorld\n",
    "from msdm.algorithms.entregpolicyiteration import entropy_regularized_policy_iteration\n",
    "from msdm.core.problemclasses.mdp import TabularPolicy\n",
    "from msdm.core.distributions import DictDistribution\n",
    "import torch\n",
    "from torch import nn\n",
    "import numpy as np\n",
    "from frozendict import frozendict\n",
    "from dataset import TrajectoryDataset, FeaturesDataset\n",
    "from algorithms import MaxLikelihoodIRL, ImitationLearning\n",
    "import matplotlib.pyplot as plt"
   ]
  },
  {
   "cell_type": "code",
   "execution_count": 2,
   "metadata": {},
   "outputs": [],
   "source": [
    "# hyperparameters\n",
    "num_trajs = 100000\n",
    "epochs = 50\n",
    "batch_size = 128\n",
    "lr = 1\n",
    "weight_decay = 0\n",
    "momentum = 0.9\n",
    "entropy_weight = 2\n",
    "discount_rate = 0.99\n",
    "step_cost = -1"
   ]
  },
  {
   "cell_type": "code",
   "execution_count": 9,
   "metadata": {},
   "outputs": [
    {
     "data": {
      "text/plain": [
       "<msdm.domains.gridworld.plotting.GridWorldPlotter at 0x28c9f076100>"
      ]
     },
     "execution_count": 9,
     "metadata": {},
     "output_type": "execute_result"
    },
    {
     "data": {
      "image/png": "[encoded data removed]",
      "text/plain": [
       "<Figure size 2664x1584 with 1 Axes>"
      ]
     },
     "metadata": {
      "needs_background": "light"
     },
     "output_type": "display_data"
    }
   ],
   "source": [
    "# Create a gridworld\n",
    "mdp = GridWorld(\n",
    "    tile_array=[\n",
    "        \"sx....c.c..c.bbx...xx.xx.xxx.bx..bc.g\",\n",
    "        \".axcxc.xxx.x.bbc.x..aaaa....xxx...x..\",\n",
    "        \"c...x....xbac.xx...xxx.....bbb....c.b\",\n",
    "        \"x.x.a.xx.x....c..ab.....xxx.......c.a\",\n",
    "        \"..xxaa....c...x..ba..xx....ac.....x.x\",\n",
    "        \"..xx..xaaa..cabx........abbc......x..\",\n",
    "        \".x.bb.x..xx.xccb..ba..cx..axbbx.ab..c\",\n",
    "        \".c.b.ax..x.a..cx.xx...xcxx..xbxc.....\",\n",
    "        \"...bbax..x.cxbcx......xbxab.b...bbb..\",\n",
    "        \".x.b.ax..a..aa....xx..xab.x..xx..aaa.\",\n",
    "        \".x..bax..x.x.xcx...ab...xxcx.a...cbcc\",\n",
    "        \".a....c.c..b.bbx.....xabccxx.bx..bc.a\",\n",
    "        \".axbcxcx.x.c..bc.x..axaa....ccx...b..\",\n",
    "        \"c...x....xbac.cx...xxabc...bbb....a.b\",\n",
    "        \"x.x...xb.x....c..ab.ccab..x....c..c.a\",\n",
    "        \"..axca....c...x..ba..xx....ac..c..b.x\",\n",
    "        \"..cc..xcca..caxx....c...abbc......a..\",\n",
    "        \".c.ab.x..x.cc.ax..ba..xx..axbcx.ab..c\",\n",
    "        \".c...aa..x.xxba..xx...xxcx..xxxc.....\",\n",
    "        \"....xac..x.xabaa......xcxabbb...ccc..\",\n",
    "        \".c.a.ab..a..aaxx..xx..xab.x..xx..aab.\",\n",
    "        \"sx......x.axaabx...b...xccb.ab..cccx.\",\n",
    "    ],\n",
    "    feature_rewards={\n",
    "        '.': 0,\n",
    "        'a': 0,\n",
    "        'g': 10,\n",
    "        'x': -12,\n",
    "        'c': -5,\n",
    "        'b': -1,\n",
    "    },\n",
    "    absorbing_features=('g'),\n",
    "    initial_features=('s'),\n",
    "    discount_rate=discount_rate,\n",
    "    step_cost=step_cost,\n",
    ")\n",
    "featurecolors = {\n",
    "    '.': 'white',\n",
    "    'a': 'lightgreen',\n",
    "    'g': 'green',\n",
    "    'x': 'red',\n",
    "    'c': 'black',\n",
    "    'b': 'blue'\n",
    "}\n",
    "mdp.plot(featurecolors=featurecolors)\n"
   ]
  },
  {
   "cell_type": "code",
   "execution_count": 10,
   "metadata": {},
   "outputs": [],
   "source": [
    "# Use the Maximum Entropy IRL policy to generate trajectories\n",
    "expert_erpi_params = dict(\n",
    "    transition_matrix=torch.tensor(mdp.transition_matrix),\n",
    "    reward_matrix=torch.tensor(mdp.reward_matrix),\n",
    "    discount_rate=torch.tensor(mdp.discount_rate),\n",
    "    # the lower this is, the more optimal the policy\n",
    "    entropy_weight=torch.tensor([entropy_weight]),\n",
    "    n_planning_iters=10,\n",
    "    policy_prior=None,\n",
    "    initial_policy=None,\n",
    "    check_convergence=True,\n",
    "    force_nonzero_probabilities=True,\n",
    ")\n",
    "\n",
    "# Max Entropy IRL expert policy\n",
    "expert_erpi = entropy_regularized_policy_iteration(\n",
    "    **expert_erpi_params\n",
    ")\n",
    "\n",
    "expert_policy = TabularPolicy.from_matrix(\n",
    "    states=mdp.state_list,\n",
    "    actions=mdp.action_list,\n",
    "    policy_matrix=expert_erpi.policy.detach().numpy()\n",
    ")\n"
   ]
  },
  {
   "cell_type": "code",
   "execution_count": 11,
   "metadata": {},
   "outputs": [],
   "source": [
    "# Convert our numpy 2d array to a tensor for training\n",
    "# do I need to convert the labels to a tensor? yes, does it for us in Lambda (target_transform)\n",
    "class ToTensor(object):\n",
    "  \"\"\"Convert ndarrays in sample to Tensors.\"\"\"\n",
    "\n",
    "  def __call__(self, sample):\n",
    "    return torch.from_numpy(sample)"
   ]
  },
  {
   "cell_type": "code",
   "execution_count": 12,
   "metadata": {},
   "outputs": [
    {
     "name": "stdout",
     "output_type": "stream",
     "text": [
      "Using cuda device\n",
      "ActionClassifier(\n",
      "  (conv1): Sequential(\n",
      "    (0): Conv1d(1, 16, kernel_size=(3,), stride=(1,), padding=(1,))\n",
      "    (1): BatchNorm1d(16, eps=1e-05, momentum=0.1, affine=True, track_running_stats=True)\n",
      "    (2): ReLU()\n",
      "  )\n",
      "  (conv2): Sequential(\n",
      "    (0): Conv1d(16, 32, kernel_size=(3,), stride=(1,), padding=(1,))\n",
      "    (1): BatchNorm1d(32, eps=1e-05, momentum=0.1, affine=True, track_running_stats=True)\n",
      "    (2): ReLU()\n",
      "  )\n",
      "  (conv3): Sequential(\n",
      "    (0): Conv1d(32, 64, kernel_size=(3,), stride=(2,), padding=(1,))\n",
      "    (1): BatchNorm1d(64, eps=1e-05, momentum=0.1, affine=True, track_running_stats=True)\n",
      "    (2): ReLU()\n",
      "  )\n",
      "  (flatten): Flatten(start_dim=1, end_dim=-1)\n",
      "  (linear_relu_stack): Sequential(\n",
      "    (0): Linear(in_features=128, out_features=64, bias=True)\n",
      "    (1): ReLU()\n",
      "    (2): Linear(in_features=64, out_features=5, bias=True)\n",
      "  )\n",
      ")\n"
     ]
    }
   ],
   "source": [
    "# Get cpu or gpu device for training.\n",
    "device = \"cuda\" if torch.cuda.is_available() else \"cpu\"\n",
    "print(f\"Using {device} device\")\n",
    "\n",
    "\n",
    "class ActionClassifier(nn.Module):\n",
    "  def __init__(self):\n",
    "    super(ActionClassifier, self).__init__()\n",
    "    self.conv1 = nn.Sequential(\n",
    "        nn.Conv1d(1, 16, 3, padding=1),\n",
    "        nn.BatchNorm1d(16),\n",
    "        nn.ReLU()\n",
    "    )\n",
    "    self.conv2 = nn.Sequential(\n",
    "        nn.Conv1d(16, 32, 3, padding=1),\n",
    "        nn.BatchNorm1d(32),\n",
    "        nn.ReLU()\n",
    "    )\n",
    "    self.conv3 = nn.Sequential(\n",
    "        nn.Conv1d(32, 64, 3, stride=2, padding=1),\n",
    "        nn.BatchNorm1d(64),\n",
    "        nn.ReLU()\n",
    "    )\n",
    "    self.flatten = nn.Flatten()\n",
    "    self.linear_relu_stack = nn.Sequential(\n",
    "        nn.Linear(128, 64),\n",
    "        nn.ReLU(),\n",
    "        nn.Linear(64, 5),\n",
    "    )\n",
    "    # don't use softmax bc nn.CrossEntropyLoss takes unnormalized outputs\n",
    "    # self.softmax = nn.Softmax(dim=1)\n",
    "\n",
    "  def forward(self, x):\n",
    "    x_conv1 = self.conv1(x)\n",
    "    x_conv2 = self.conv2(x_conv1)\n",
    "    x_conv3 = self.conv3(x_conv2)\n",
    "    x_flat = self.flatten(x_conv3)\n",
    "    logits = self.linear_relu_stack(x_flat)\n",
    "    # probabilities = self.softmax(logits)\n",
    "    return logits\n",
    "\n",
    "\n",
    "model = ActionClassifier().to(device)\n",
    "print(model)"
   ]
  },
  {
   "cell_type": "code",
   "execution_count": 13,
   "metadata": {},
   "outputs": [],
   "source": [
    "# Generate gen_iters of trajectories\n",
    "gen_iters = num_trajs\n",
    "trajectories = []\n",
    "\n",
    "for _ in range(gen_iters):\n",
    "  # Starts at one of the labelled starting points\n",
    "  trajectory = expert_policy.run_on(mdp)\n",
    "  formatted_traj = {}\n",
    "  formatted_traj['state_traj'] = trajectory.state_traj\n",
    "  formatted_traj['action_traj'] = trajectory.action_traj\n",
    "  trajectories.append(formatted_traj)\n",
    "\n",
    "trajs_dataset = TrajectoryDataset(trajectories)\n",
    "features_dataset = FeaturesDataset(mdp, trajectories, transform=ToTensor())"
   ]
  },
  {
   "cell_type": "code",
   "execution_count": 14,
   "metadata": {},
   "outputs": [],
   "source": [
    "# Use Cross Entropy Loss for classification\n",
    "loss_fn = nn.CrossEntropyLoss()\n",
    "\n",
    "# better optimizer with a scheduler to decrease learning rate by 0.1 at indicated steps\n",
    "optimizer = torch.optim.SGD(\n",
    "    model.parameters(), lr=0.1, weight_decay=0.0001, momentum=momentum)\n",
    "scheduler = torch.optim.lr_scheduler.MultiStepLR(\n",
    "    optimizer, [10, 20, 30, 40], gamma=0.1)"
   ]
  },
  {
   "cell_type": "code",
   "execution_count": 15,
   "metadata": {},
   "outputs": [],
   "source": [
    "def featurizer(state, action, next_state):\n",
    "  feature_name = mdp.location_features.get(next_state, 's')\n",
    "  if feature_name in 's':\n",
    "    return {}\n",
    "  return {feature_name: 1}\n",
    "\n",
    "def fixed_reward(state, action, next_state):\n",
    "  return mdp.step_cost"
   ]
  },
  {
   "cell_type": "code",
   "execution_count": 16,
   "metadata": {},
   "outputs": [],
   "source": [
    "algorithm = MaxLikelihoodIRL(mdp, featurizer, fixed_reward, batch_size=batch_size, epochs=epochs,\n",
    "                             lr=lr, momentum=momentum, entropy_weight=entropy_weight, weight_decay=weight_decay)\n",
    "\n",
    "supervised_learning = ImitationLearning(\n",
    "    mdp, _, _, model, loss_fn, optimizer, scheduler=scheduler, batch_size=batch_size, epochs=epochs)\n"
   ]
  },
  {
   "cell_type": "code",
   "execution_count": 17,
   "metadata": {},
   "outputs": [
    {
     "name": "stdout",
     "output_type": "stream",
     "text": [
      "Using cuda\n",
      "Inital reward weights: tensor([ 2.2772, -0.6890, -0.2900, -1.0179, -0.0981], dtype=torch.float64)\n",
      "\n",
      "loss: 0.315839  [    0/100000]\n"
     ]
    }
   ],
   "source": [
    "learned_weights, the_policy, max_losses = algorithm.learn(trajs_dataset)\n",
    "optimized_model, imitation_losses = supervised_learning.learn(features_dataset)\n"
   ]
  },
  {
   "cell_type": "code",
   "execution_count": null,
   "metadata": {},
   "outputs": [],
   "source": [
    "# solve with matrices returned by gridworld object\n",
    "max_policy = TabularPolicy.from_matrix(\n",
    "    states=mdp.state_list,\n",
    "    actions=mdp.action_list,\n",
    "    policy_matrix=the_policy.policy.detach().numpy()\n",
    ")\n",
    "\n",
    "mdp.plot(featurecolors=featurecolors).plot_policy(max_policy)\n",
    "mdp.plot().plot_state_map(max_policy.evaluate_on(mdp).V)\n",
    "\n",
    "mdp.plot(featurecolors=featurecolors).plot_policy(expert_policy)\n",
    "mdp.plot().plot_state_map(expert_policy.evaluate_on(mdp).V)\n",
    "\n",
    "optimized_model.eval()\n",
    "\n",
    "temp_imitpolicy = {}\n",
    "int_to_action = {0: frozendict(dx=0, dy=1), 1: frozendict(\n",
    "    dx=0, dy=-1), 2: frozendict(dx=1, dy=0), 3: frozendict(dx=-1, dy=0), 4: frozendict(dx=0, dy=0)}\n",
    "\n",
    "softmax_fn = nn.Softmax(dim=1)\n",
    "\n",
    "# so pred doesn't have a grad_fn attached to it\n",
    "with torch.no_grad():\n",
    "  for s in mdp.state_list:\n",
    "    state_feature = torch.from_numpy(\n",
    "        np.array([features_dataset.getStateFeature(s)], dtype='f')).to(device)\n",
    "    # pred = model(state_feature)[0]\n",
    "    # pred = supervised_learning.model(state_feature)\n",
    "    pred = optimized_model(state_feature)\n",
    "    probs = softmax_fn(pred)[0]\n",
    "    temp_imitpolicy[s] = {}\n",
    "    # for each action in each state, grab from the \"pred\" result the probability of taking this action in this state and add that to the dictionary policy which is a dictionary with states as keys and a dictionary of \"action: prob of taking this action in this state\" as values\n",
    "    for a_i, prob in enumerate(probs):\n",
    "      temp_imitpolicy[s][int_to_action[a_i]] = prob.item()\n",
    "\n",
    "# to turn policy into an actual policy object that we can call the MSDM functions on\n",
    "imitation_policy = TabularPolicy({s: DictDistribution(ap) for s, ap in temp_imitpolicy.items()})\n",
    "\n",
    "mdp.plot(featurecolors=featurecolors).plot_policy(imitation_policy)\n",
    "mdp.plot().plot_state_map(imitation_policy.evaluate_on(mdp).V)"
   ]
  },
  {
   "cell_type": "code",
   "execution_count": null,
   "metadata": {},
   "outputs": [],
   "source": [
    "print(f\"Max policy initial value: {max_policy.evaluate_on(mdp).initial_value}\")\n",
    "print(f\"Expert policy initial value: {expert_policy.evaluate_on(mdp).initial_value}\")\n",
    "print(f\"Imitation policy initial value: {imitation_policy.evaluate_on(mdp).initial_value}\")"
   ]
  },
  {
   "cell_type": "code",
   "execution_count": null,
   "metadata": {},
   "outputs": [],
   "source": [
    "# Create a gridworld\n",
    "mdp2 = GridWorld(\n",
    "    tile_array=[\n",
    "        \".x....c.c..c.x....xx....ca...x.x.a........g\",\n",
    "        \".x..xx....x....a......x....x.a...xx..abc.a.\",\n",
    "        \"...cxx.ccc.x.b.x.x....bx.abc.axa.a..caa..cx\",\n",
    "        \"..axx.ax.xax.xaxba.x.acc..a.abax.b...bac..x\",\n",
    "        \"a.ba.xx.ca.abb..xxxx.....xab.xaa.c.aaa.a.bc\",\n",
    "        \"cc.xaacc..xaccb.baaa.c.c.aaa.a.a.cccxba.cba\",\n",
    "        \"xabbbc.abcx.aaa..bb....ccxx..aa..x.cccbca.a\",\n",
    "        \"abaaa...cxxxx.aaab.abc.xxx......xa.x.bbba.a\",\n",
    "        \".abc.xaaaab....cx..abca.abbc...a.aca.ab.a.b\",\n",
    "        \"x.cabax.a...c..a..cc..abcxxaa...xxc..cbaccc\",\n",
    "        \".xacca...a..xxx.......xcb.a..x...xxx.xxcxxx\",\n",
    "        \".x..bax..x.xabcxxx.ab...xabx........caaaabb\",\n",
    "        \".a..xxabc...abbb.ac..xx..bx..bcxbbxxa...b.x\",\n",
    "        \".xaxcaxa.ax..xca.a.xaaac....abx...c.xaa.a.x\",\n",
    "        \"a.x.b....bxca..x...xb..a...ccx....a.babb.cb\",\n",
    "        \"x.x..abcc.....c..ab...ab.......cccc.a.b.b.b\",\n",
    "        \"..xaac.x..a......xxx.......ca..x....xaaa...\",\n",
    "        \"..cc..xcca..xcab....c...abbc......a..bc.a.b\",\n",
    "        \"x..xx.a..x....xb..xx...x..xacab.xx..cbababb\",\n",
    "        \".....xx..x.xxbx..xb...abcx..abcx....x...ccc\",\n",
    "        \"....a......ccba.c.ccc.acaxxx..a..cc...csc..\",\n",
    "        \".c.a...c.a........aa..xab.x..xx..aab....x..\",\n",
    "        \".x.abc..x.xcabcx.x.b...xccb.ab..cccx...cc..\",\n",
    "        \"sx..bax..xb.xx.ab....cc...a...abcbbb.......\",\n",
    "    ],\n",
    "    feature_rewards={\n",
    "        '.': 0,\n",
    "        'a': 0,\n",
    "        'g': 10,\n",
    "        'x': -12,\n",
    "        'c': -5,\n",
    "        'b': -1,\n",
    "    }\n",
    "    absorbing_features=('g'),\n",
    "    initial_features=('s'),\n",
    "    discount_rate=discount_rate,\n",
    "    step_cost=step_cost,\n",
    ")\n",
    "featurecolors = {\n",
    "    '.': 'white',\n",
    "    'a': 'lightgreen',\n",
    "    'g': 'green',\n",
    "    'x': 'red',\n",
    "    'c': 'black',\n",
    "    'b': 'blue'\n",
    "}\n",
    "\n",
    "mdp2.plot(featurecolors=featurecolors)\n"
   ]
  },
  {
   "cell_type": "code",
   "execution_count": null,
   "metadata": {},
   "outputs": [],
   "source": [
    "expert_erpi_params2 = dict(\n",
    "    transition_matrix=torch.tensor(mdp2.transition_matrix),\n",
    "    reward_matrix=torch.tensor(mdp2.reward_matrix),\n",
    "    discount_rate=torch.tensor(mdp2.discount_rate),\n",
    "    # the lower this is, the more optimal the policy\n",
    "    entropy_weight=torch.tensor([entropy_weight]),\n",
    "    n_planning_iters=10,\n",
    "    policy_prior=None,\n",
    "    initial_policy=None,\n",
    "    check_convergence=True,\n",
    "    force_nonzero_probabilities=True,\n",
    ")\n",
    "\n",
    "# Max Entropy IRL expert policy\n",
    "expert_erpi2 = entropy_regularized_policy_iteration(\n",
    "    **expert_erpi_params2\n",
    ")\n",
    "\n",
    "expert_policy2 = TabularPolicy.from_matrix(\n",
    "    states=mdp2.state_list,\n",
    "    actions=mdp2.action_list,\n",
    "    policy_matrix=expert_erpi2.policy.detach().numpy()\n",
    ")\n"
   ]
  },
  {
   "cell_type": "code",
   "execution_count": null,
   "metadata": {},
   "outputs": [],
   "source": [
    "def featurizer2(state, action, next_state):\n",
    "  feature_name = mdp2.location_features.get(next_state, 's')\n",
    "  if feature_name in 's':\n",
    "    return {}\n",
    "  return {feature_name: 1}\n",
    "\n",
    "\n",
    "def fixed_reward2(state, action, next_state):\n",
    "  return mdp2.step_cost\n"
   ]
  },
  {
   "cell_type": "code",
   "execution_count": null,
   "metadata": {},
   "outputs": [],
   "source": [
    "algorithm2 = MaxLikelihoodIRL(mdp2, featurizer2, fixed_reward2, batch_size=batch_size, epochs=epochs, lr=lr, weight_decay=weight_decay, momentum=momentum, entropy_weight=entropy_weight)\n",
    "\n",
    "# compute policy from learned weights\n",
    "feature_reward_matrix2 = torch.einsum(\n",
    "    \"sanf,f->san\",\n",
    "    algorithm2.get_feature_matrix(),\n",
    "    learned_weights\n",
    ")\n",
    "\n",
    "reward_matrix2 = feature_reward_matrix2 + algorithm2.get_fixed_reward_matrix()\n",
    "terminal_index = mdp2.state_index.get(\n",
    "    frozendict({'x': -1, 'y': -1}))\n",
    "reward_matrix2[:, :, terminal_index] = 0\n",
    "\n",
    "my_erpi_params2 = dict(\n",
    "    transition_matrix=torch.tensor(mdp2.transition_matrix),\n",
    "    reward_matrix=reward_matrix2,\n",
    "    discount_rate=torch.tensor(mdp2.discount_rate),\n",
    "    # the lower this is, the more optimal the policy\n",
    "    entropy_weight=torch.tensor([entropy_weight]),\n",
    "    n_planning_iters=10,\n",
    "    policy_prior=None,\n",
    "    initial_policy=None,\n",
    "    check_convergence=True,\n",
    "    force_nonzero_probabilities=True,\n",
    ")\n"
   ]
  },
  {
   "cell_type": "code",
   "execution_count": null,
   "metadata": {},
   "outputs": [],
   "source": [
    "features_dataset2 = FeaturesDataset(mdp2, trajectories, transform=ToTensor())"
   ]
  },
  {
   "cell_type": "code",
   "execution_count": null,
   "metadata": {},
   "outputs": [],
   "source": [
    "optimized_model.eval()\n",
    "\n",
    "temp_imitpolicy2 = {}\n",
    "# so pred doesn't have a grad_fn attached to it\n",
    "with torch.no_grad():\n",
    "  for s in mdp2.state_list:\n",
    "    state_feature = torch.from_numpy(\n",
    "        np.array([features_dataset2.getStateFeature(s)], dtype='f')).to(device)\n",
    "    # pred = model(state_feature)[0]\n",
    "    pred = optimized_model(state_feature)\n",
    "    probs = softmax_fn(pred)[0]\n",
    "    temp_imitpolicy2[s] = {}\n",
    "    # for each action in each state, grab from the \"pred\" result the probability of taking this action in this state and add that to the dictionary policy which is a dictionary with states as keys and a dictionary of \"action: prob of taking this action in this state\" as values\n",
    "    for a_i, prob in enumerate(probs):\n",
    "      temp_imitpolicy2[s][int_to_action[a_i]] = prob.item()\n",
    "\n",
    "# to turn policy into an actual policy object that we can call the MSDM functions on\n",
    "imitation_policy2 = TabularPolicy({s: DictDistribution(ap)\n",
    "                       for s, ap in temp_imitpolicy2.items()})\n"
   ]
  },
  {
   "cell_type": "code",
   "execution_count": null,
   "metadata": {},
   "outputs": [],
   "source": [
    "# solve with matrices returned by gridworld object\n",
    "my_erpi2 = entropy_regularized_policy_iteration(\n",
    "    **my_erpi_params2\n",
    ")\n",
    "\n",
    "max_policy2 = TabularPolicy.from_matrix(\n",
    "    states=mdp2.state_list,\n",
    "    actions=mdp2.action_list,\n",
    "    policy_matrix=my_erpi2.policy.detach().numpy()\n",
    ")\n",
    "\n",
    "mdp2.plot(featurecolors=featurecolors).plot_policy(max_policy2)\n",
    "mdp2.plot().plot_state_map(max_policy2.evaluate_on(mdp2).V)\n",
    "\n",
    "mdp2.plot(featurecolors=featurecolors).plot_policy(expert_policy2)\n",
    "mdp2.plot().plot_state_map(expert_policy2.evaluate_on(mdp2).V)\n",
    "\n",
    "mdp2.plot(featurecolors=featurecolors).plot_policy(imitation_policy2)\n",
    "mdp2.plot().plot_state_map(imitation_policy2.evaluate_on(mdp2).V)\n"
   ]
  },
  {
   "cell_type": "code",
   "execution_count": null,
   "metadata": {},
   "outputs": [],
   "source": [
    "print(f\"Max policy initial value: {max_policy2.evaluate_on(mdp2).initial_value}\")\n",
    "print(f\"Expert policy initial value: {expert_policy2.evaluate_on(mdp2).initial_value}\")\n",
    "print(f\"Imitation policy initial value: {imitation_policy2.evaluate_on(mdp2).initial_value}\")\n"
   ]
  },
  {
   "cell_type": "code",
   "execution_count": null,
   "metadata": {},
   "outputs": [],
   "source": []
  }
 ],
 "metadata": {
  "interpreter": {
   "hash": "a48d4cd50a2a48eca588c9887707ccbe5fc1fb45f33358dc08b670e55b95267a"
  },
  "kernelspec": {
   "display_name": "Python 3.9.7 64-bit ('IRLIW': conda)",
   "language": "python",
   "name": "python3"
  },
  "language_info": {
   "codemirror_mode": {
    "name": "ipython",
    "version": 3
   },
   "file_extension": ".py",
   "mimetype": "text/x-python",
   "name": "python",
   "nbconvert_exporter": "python",
   "pygments_lexer": "ipython3",
   "version": "3.9.7"
  },
  "orig_nbformat": 4
 },
 "nbformat": 4,
 "nbformat_minor": 2
}
