{
 "cells": [
  {
   "cell_type": "code",
   "execution_count": 40,
   "id": "6d2ed691-ff8f-4cb9-9bb6-9af424c2414e",
   "metadata": {},
   "outputs": [],
   "source": [
    "from msdm.domains import GridWorld"
   ]
  },
  {
   "cell_type": "code",
   "execution_count": 41,
   "id": "4033d1f4-3f89-42f0-85d5-7e67ab33c9fb",
   "metadata": {},
   "outputs": [
    {
     "data": {
      "text/plain": [
       "<msdm.domains.gridworld.plotting.GridWorldPlotter at 0x7f949195e8e0>"
      ]
     },
     "execution_count": 41,
     "metadata": {},
     "output_type": "execute_result"
    },
    {
     "data": {
      "image/png": "[encoded data removed]",
      "text/plain": [
       "<Figure size 720x504 with 1 Axes>"
      ]
     },
     "metadata": {
      "needs_background": "light"
     },
     "output_type": "display_data"
    }
   ],
   "source": [
    "gw = GridWorld(\n",
    "    tile_array=[\n",
    "        \".....c.bbg\",\n",
    "        \"..xx.a.bbb\",\n",
    "        \"c.xxxxxxxx\",\n",
    "        \"..xx......\",\n",
    "        \"s.xxaaxx..\",\n",
    "        \"..xx..xaaa\",\n",
    "        \".bbbbbx..s\",\n",
    "    ],\n",
    "    feature_rewards={\n",
    "        'g': 10,\n",
    "        'x': -500,\n",
    "        '.': 0,\n",
    "        'a': 0,\n",
    "        'b': 0,\n",
    "        'c': -5\n",
    "    },\n",
    "    absorbing_features=('g'),\n",
    "    initial_features=('s'),\n",
    ")\n",
    "featurecolors={\n",
    "    'g': 'yellow',\n",
    "    'x': 'red',\n",
    "    '.': 'white',\n",
    "    'a': 'lightgreen',\n",
    "    'b': 'violet',\n",
    "    'c': 'lightblue'\n",
    "}\n",
    "gw.plot(featurecolors=featurecolors)"
   ]
  },
  {
   "cell_type": "code",
   "execution_count": 42,
   "id": "8e252e0a-62e3-47d6-ab6a-8874b5ce9d46",
   "metadata": {},
   "outputs": [],
   "source": [
    "from msdm.algorithms import ValueIteration\n",
    "vi_res = ValueIteration().plan_on(gw)"
   ]
  },
  {
   "cell_type": "code",
   "execution_count": 43,
   "id": "c7761930",
   "metadata": {},
   "outputs": [
    {
     "name": "stdout",
     "output_type": "stream",
     "text": [
      "(frozendict({'x': 9, 'y': 0}), frozendict({'x': 8, 'y': 0}), frozendict({'x': 8, 'y': 1}), frozendict({'x': 8, 'y': 2}), frozendict({'x': 8, 'y': 3}), frozendict({'x': 7, 'y': 3}), frozendict({'x': 6, 'y': 3}), frozendict({'x': 5, 'y': 3}), frozendict({'x': 4, 'y': 3}), frozendict({'x': 4, 'y': 2}), frozendict({'x': 4, 'y': 1}), frozendict({'x': 4, 'y': 0}), frozendict({'x': 3, 'y': 0}), frozendict({'x': 2, 'y': 0}), frozendict({'x': 1, 'y': 0}), frozendict({'x': 1, 'y': 1}), frozendict({'x': 1, 'y': 2}), frozendict({'x': 1, 'y': 3}), frozendict({'x': 1, 'y': 4}), frozendict({'x': 1, 'y': 5}), frozendict({'x': 1, 'y': 6}), frozendict({'x': 2, 'y': 6}), frozendict({'x': 3, 'y': 6}), frozendict({'x': 4, 'y': 6}), frozendict({'x': 4, 'y': 5}), frozendict({'x': 5, 'y': 5}), frozendict({'x': 6, 'y': 5}), frozendict({'x': 7, 'y': 5}), frozendict({'x': 8, 'y': 5}), frozendict({'x': 8, 'y': 6}), frozendict({'x': 9, 'y': 6}))\n",
      "\n",
      "frozendict({'x': 8, 'y': 0})\n",
      "a\n"
     ]
    }
   ],
   "source": [
    "traj = vi_res.policy.run_on(gw)\n",
    "state_traj = traj.state_traj\n",
    "print(state_traj)\n",
    "print()\n",
    "print(state_traj[1])\n",
    "print(gw.location_features.get(state_traj[2]))"
   ]
  },
  {
   "cell_type": "code",
   "execution_count": 52,
   "id": "18b38137",
   "metadata": {},
   "outputs": [
    {
     "name": "stdout",
     "output_type": "stream",
     "text": [
      "frozendict({'x': -1, 'y': -1}): None\n",
      "frozendict({'x': 0, 'y': 0}): None\n",
      "frozendict({'x': 0, 'y': 1}): None\n",
      "frozendict({'x': 0, 'y': 2}): s\n",
      "frozendict({'x': 0, 'y': 3}): None\n",
      "frozendict({'x': 0, 'y': 4}): c\n",
      "frozendict({'x': 0, 'y': 5}): None\n",
      "frozendict({'x': 0, 'y': 6}): None\n",
      "frozendict({'x': 1, 'y': 0}): b\n",
      "frozendict({'x': 1, 'y': 1}): None\n",
      "frozendict({'x': 1, 'y': 2}): None\n",
      "frozendict({'x': 1, 'y': 3}): None\n",
      "frozendict({'x': 1, 'y': 4}): None\n",
      "frozendict({'x': 1, 'y': 5}): None\n",
      "frozendict({'x': 1, 'y': 6}): None\n",
      "frozendict({'x': 2, 'y': 0}): b\n",
      "frozendict({'x': 2, 'y': 1}): x\n",
      "frozendict({'x': 2, 'y': 2}): x\n",
      "frozendict({'x': 2, 'y': 3}): x\n",
      "frozendict({'x': 2, 'y': 4}): x\n",
      "frozendict({'x': 2, 'y': 5}): x\n",
      "frozendict({'x': 2, 'y': 6}): None\n",
      "frozendict({'x': 3, 'y': 0}): b\n",
      "frozendict({'x': 3, 'y': 1}): x\n",
      "frozendict({'x': 3, 'y': 2}): x\n",
      "frozendict({'x': 3, 'y': 3}): x\n",
      "frozendict({'x': 3, 'y': 4}): x\n",
      "frozendict({'x': 3, 'y': 5}): x\n",
      "frozendict({'x': 3, 'y': 6}): None\n",
      "frozendict({'x': 4, 'y': 0}): b\n",
      "frozendict({'x': 4, 'y': 1}): None\n",
      "frozendict({'x': 4, 'y': 2}): a\n",
      "frozendict({'x': 4, 'y': 3}): None\n",
      "frozendict({'x': 4, 'y': 4}): x\n",
      "frozendict({'x': 4, 'y': 5}): None\n",
      "frozendict({'x': 4, 'y': 6}): None\n",
      "frozendict({'x': 5, 'y': 0}): b\n",
      "frozendict({'x': 5, 'y': 1}): None\n",
      "frozendict({'x': 5, 'y': 2}): a\n",
      "frozendict({'x': 5, 'y': 3}): None\n",
      "frozendict({'x': 5, 'y': 4}): x\n",
      "frozendict({'x': 5, 'y': 5}): a\n",
      "frozendict({'x': 5, 'y': 6}): c\n",
      "frozendict({'x': 6, 'y': 0}): x\n",
      "frozendict({'x': 6, 'y': 1}): x\n",
      "frozendict({'x': 6, 'y': 2}): x\n",
      "frozendict({'x': 6, 'y': 3}): None\n",
      "frozendict({'x': 6, 'y': 4}): x\n",
      "frozendict({'x': 6, 'y': 5}): None\n",
      "frozendict({'x': 6, 'y': 6}): None\n",
      "frozendict({'x': 7, 'y': 0}): None\n",
      "frozendict({'x': 7, 'y': 1}): a\n",
      "frozendict({'x': 7, 'y': 2}): x\n",
      "frozendict({'x': 7, 'y': 3}): None\n",
      "frozendict({'x': 7, 'y': 4}): x\n",
      "frozendict({'x': 7, 'y': 5}): b\n",
      "frozendict({'x': 7, 'y': 6}): b\n",
      "frozendict({'x': 8, 'y': 0}): None\n",
      "frozendict({'x': 8, 'y': 1}): a\n",
      "frozendict({'x': 8, 'y': 2}): None\n",
      "frozendict({'x': 8, 'y': 3}): None\n",
      "frozendict({'x': 8, 'y': 4}): x\n",
      "frozendict({'x': 8, 'y': 5}): b\n",
      "frozendict({'x': 8, 'y': 6}): b\n",
      "frozendict({'x': 9, 'y': 0}): s\n",
      "frozendict({'x': 9, 'y': 1}): a\n",
      "frozendict({'x': 9, 'y': 2}): None\n",
      "frozendict({'x': 9, 'y': 3}): None\n",
      "frozendict({'x': 9, 'y': 4}): x\n",
      "frozendict({'x': 9, 'y': 5}): b\n",
      "frozendict({'x': 9, 'y': 6}): g\n"
     ]
    }
   ],
   "source": [
    "for s in gw.state_list:\n",
    "  print(f'{s}: {gw.location_features.get(s)}')"
   ]
  },
  {
   "cell_type": "code",
   "execution_count": 34,
   "id": "e1c23998",
   "metadata": {},
   "outputs": [
    {
     "name": "stdout",
     "output_type": "stream",
     "text": [
      "(frozendict({'x': 9, 'y': 0}), frozendict({'x': 8, 'y': 0}), frozendict({'x': 8, 'y': 1}), frozendict({'x': 8, 'y': 2}), frozendict({'x': 8, 'y': 3}), frozendict({'x': 7, 'y': 3}), frozendict({'x': 6, 'y': 3}), frozendict({'x': 5, 'y': 3}), frozendict({'x': 4, 'y': 3}), frozendict({'x': 4, 'y': 2}), frozendict({'x': 4, 'y': 1}), frozendict({'x': 4, 'y': 0}), frozendict({'x': 3, 'y': 0}), frozendict({'x': 2, 'y': 0}), frozendict({'x': 1, 'y': 0}), frozendict({'x': 1, 'y': 1}), frozendict({'x': 1, 'y': 2}), frozendict({'x': 1, 'y': 3}), frozendict({'x': 1, 'y': 4}), frozendict({'x': 1, 'y': 5}), frozendict({'x': 1, 'y': 6}), frozendict({'x': 2, 'y': 6}), frozendict({'x': 3, 'y': 6}), frozendict({'x': 4, 'y': 6}), frozendict({'x': 4, 'y': 5}), frozendict({'x': 5, 'y': 5}), frozendict({'x': 6, 'y': 5}), frozendict({'x': 7, 'y': 5}), frozendict({'x': 7, 'y': 6}), frozendict({'x': 8, 'y': 6}), frozendict({'x': 9, 'y': 6}))\n",
      "\n",
      "frozendict({'x': 8, 'y': 0})\n",
      "\n",
      "None\n"
     ]
    }
   ],
   "source": [
    "print(state_traj)\n",
    "print()\n",
    "print(state_traj[1])\n",
    "print()\n",
    "print(gw.location_features.get(state_traj[5]))"
   ]
  },
  {
   "cell_type": "code",
   "execution_count": 37,
   "id": "679379a6",
   "metadata": {},
   "outputs": [
    {
     "name": "stdout",
     "output_type": "stream",
     "text": [
      "(frozendict({'dx': -1, 'dy': 0}), frozendict({'dy': 1, 'dx': 0}), frozendict({'dy': 1, 'dx': 0}), frozendict({'dy': 1, 'dx': 0}), frozendict({'dx': -1, 'dy': 0}), frozendict({'dx': -1, 'dy': 0}), frozendict({'dx': -1, 'dy': 0}), frozendict({'dx': -1, 'dy': 0}), frozendict({'dy': -1, 'dx': 0}), frozendict({'dy': -1, 'dx': 0}), frozendict({'dy': -1, 'dx': 0}), frozendict({'dx': -1, 'dy': 0}), frozendict({'dx': -1, 'dy': 0}), frozendict({'dx': -1, 'dy': 0}), frozendict({'dy': 1, 'dx': 0}), frozendict({'dy': 1, 'dx': 0}), frozendict({'dy': 1, 'dx': 0}), frozendict({'dy': 1, 'dx': 0}), frozendict({'dy': 1, 'dx': 0}), frozendict({'dy': 1, 'dx': 0}), frozendict({'dx': 1, 'dy': 0}), frozendict({'dx': 1, 'dy': 0}), frozendict({'dx': 1, 'dy': 0}), frozendict({'dy': -1, 'dx': 0}), frozendict({'dx': 1, 'dy': 0}), frozendict({'dx': 1, 'dy': 0}), frozendict({'dx': 1, 'dy': 0}), frozendict({'dy': 1, 'dx': 0}), frozendict({'dx': 1, 'dy': 0}), frozendict({'dx': 1, 'dy': 0}), frozendict({'dx': 0, 'dy': 0}))\n",
      "\n",
      "frozendict({'dx': -1, 'dy': 0})\n",
      "\n"
     ]
    }
   ],
   "source": [
    "action_traj = traj.action_traj\n",
    "print(action_traj)\n",
    "print()\n",
    "print(action_traj[0])\n",
    "print()"
   ]
  },
  {
   "cell_type": "code",
   "execution_count": null,
   "id": "016a7fb6",
   "metadata": {},
   "outputs": [],
   "source": [
    "gw.plot(featurecolors=featurecolors).plot_policy(vi_res.policy)"
   ]
  },
  {
   "cell_type": "code",
   "execution_count": null,
   "id": "11a906be",
   "metadata": {},
   "outputs": [],
   "source": [
    "from collections import defaultdict\n",
    "\n",
    "\n",
    "def traj_feature_counts(state_traj, gw):\n",
    "    counts = defaultdict(int)\n",
    "    for s in state_traj:\n",
    "        f = gw.location_features.get(s, '.')\n",
    "        counts[f] += 1\n",
    "    return counts"
   ]
  },
  {
   "cell_type": "code",
   "execution_count": 26,
   "id": "a5bb2a92-bee2-48b8-a898-d91653c7e6a9",
   "metadata": {},
   "outputs": [
    {
     "name": "stdout",
     "output_type": "stream",
     "text": [
      "defaultdict(<class 'int'>, {'s': 1, 'a': 3, '.': 19, 'b': 7, 'g': 1})\n"
     ]
    },
    {
     "data": {
      "image/png": "[encoded data removed]",
      "text/plain": [
       "<Figure size 720x504 with 1 Axes>"
      ]
     },
     "metadata": {
      "needs_background": "light"
     },
     "output_type": "display_data"
    }
   ],
   "source": [
    "gwp = gw.plot(featurecolors=featurecolors)\n",
    "total_fcounts = defaultdict(int)\n",
    "for _ in range(1):\n",
    "    traj = vi_res.policy.run_on(gw)\n",
    "    gwp.plot_trajectory(traj.state_traj)\n",
    "    fcounts = traj_feature_counts(traj.state_traj, gw)\n",
    "    for f, c in fcounts.items():\n",
    "        total_fcounts[f] += c\n",
    "print(total_fcounts)"
   ]
  }
 ],
 "metadata": {
  "kernelspec": {
   "display_name": "Python 3 (ipykernel)",
   "language": "python",
   "name": "python3"
  },
  "language_info": {
   "codemirror_mode": {
    "name": "ipython",
    "version": 3
   },
   "file_extension": ".py",
   "mimetype": "text/x-python",
   "name": "python",
   "nbconvert_exporter": "python",
   "pygments_lexer": "ipython3",
   "version": "3.9.7"
  }
 },
 "nbformat": 4,
 "nbformat_minor": 5
}
